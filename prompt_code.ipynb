{
 "cells": [
  {
   "cell_type": "code",
   "execution_count": 1,
   "id": "73f6a0ef",
   "metadata": {},
   "outputs": [
    {
     "name": "stdout",
     "output_type": "stream",
     "text": [
      "Requirement already satisfied: openai in c:\\users\\hgpav\\anaconda3\\lib\\site-packages (1.19.0)\n",
      "Requirement already satisfied: anyio<5,>=3.5.0 in c:\\users\\hgpav\\anaconda3\\lib\\site-packages (from openai) (3.7.1)\n",
      "Requirement already satisfied: distro<2,>=1.7.0 in c:\\users\\hgpav\\anaconda3\\lib\\site-packages (from openai) (1.9.0)\n",
      "Requirement already satisfied: httpx<1,>=0.23.0 in c:\\users\\hgpav\\anaconda3\\lib\\site-packages (from openai) (0.27.0)\n",
      "Requirement already satisfied: pydantic<3,>=1.9.0 in c:\\users\\hgpav\\anaconda3\\lib\\site-packages (from openai) (1.10.8)\n",
      "Requirement already satisfied: sniffio in c:\\users\\hgpav\\anaconda3\\lib\\site-packages (from openai) (1.3.1)\n",
      "Requirement already satisfied: tqdm>4 in c:\\users\\hgpav\\anaconda3\\lib\\site-packages (from openai) (4.65.0)\n",
      "Requirement already satisfied: typing-extensions<5,>=4.7 in c:\\users\\hgpav\\anaconda3\\lib\\site-packages (from openai) (4.10.0)\n",
      "Requirement already satisfied: idna>=2.8 in c:\\users\\hgpav\\anaconda3\\lib\\site-packages (from anyio<5,>=3.5.0->openai) (3.4)\n",
      "Requirement already satisfied: certifi in c:\\users\\hgpav\\anaconda3\\lib\\site-packages (from httpx<1,>=0.23.0->openai) (2023.11.17)\n",
      "Requirement already satisfied: httpcore==1.* in c:\\users\\hgpav\\anaconda3\\lib\\site-packages (from httpx<1,>=0.23.0->openai) (1.0.5)\n",
      "Requirement already satisfied: h11<0.15,>=0.13 in c:\\users\\hgpav\\anaconda3\\lib\\site-packages (from httpcore==1.*->httpx<1,>=0.23.0->openai) (0.14.0)\n",
      "Requirement already satisfied: colorama in c:\\users\\hgpav\\anaconda3\\lib\\site-packages (from tqdm>4->openai) (0.4.6)\n"
     ]
    }
   ],
   "source": [
    "!pip install openai"
   ]
  },
  {
   "cell_type": "code",
   "execution_count": 2,
   "id": "637478f2",
   "metadata": {},
   "outputs": [],
   "source": [
    "from openai import OpenAI\n",
    "f = open('keys/key.txt')\n",
    "OPENAI_API_KEY = f.read()\n",
    "\n",
    "client = OpenAI(api_key = OPENAI_API_KEY)"
   ]
  },
  {
   "cell_type": "code",
   "execution_count": 3,
   "id": "c2a31df7",
   "metadata": {},
   "outputs": [],
   "source": [
    "def chat_bot(prompt):\n",
    "    response = client.chat.completions.create(\n",
    "                      model=\"gpt-3.5-turbo\",\n",
    "                      messages=[\n",
    "                        {\"role\": \"system\", \"content\": \"\"\"You are pyhton code reviewer assistant working with an company as a Python Developer. \n",
    "                                        Your job here is to analyze the given prompt, identify potential bugs, errors, or areas of improvement required.\n",
    "                                        Display a \"Code Review\"  report and in next lines displays all bugs under \"Bugs Report\" and correct code under\"Fixed Code\".\n",
    "                                        You are know to be polite and helpful AI bot. \n",
    "                                        Dipslay the Code Review, Bugs Reportand Fixed Code in in a bold fonts.\n",
    "                                        If the doubt is not relevant to python language you can politely ask the user for providng another prompt.\n",
    "                                        \"\"\"},\n",
    "                        {\"role\": \"user\", \"content\": prompt}\n",
    "                      ]\n",
    "                )\n",
    "    return response.choices[0].message.content"
   ]
  },
  {
   "cell_type": "code",
   "execution_count": 4,
   "id": "23ca2272",
   "metadata": {
    "scrolled": true
   },
   "outputs": [
    {
     "name": "stdout",
     "output_type": "stream",
     "text": [
      "User: a = 10 b = 0 div = a / b print(Div)\n",
      "*AI:  **Code Review:**\n",
      "\n",
      "The given code snippet has a few issues that need to be addressed:\n",
      "\n",
      "**Bugs Report:**\n",
      "\n",
      "1. In the code, it seems that the variable `b` is assigned a value of `0`. Dividing by zero will result in a ZeroDivisionError.\n",
      "2. The print statement is trying to print the variable `Div`, but the correct variable name is `div`.\n",
      "\n",
      "**Fixed Code:**\n",
      "\n",
      "```python\n",
      "a = 10\n",
      "b = 0\n",
      "\n",
      "try:\n",
      "    div = a / b\n",
      "    print(div)\n",
      "except ZeroDivisionError:\n",
      "    print(\"Error: Division by zero\")\n",
      "```\n",
      "\n",
      "In the fixed code, I have added a try-except block to catch the ZeroDivisionError if dividing by zero and corrected the variable name in the print statement.\n",
      "User: see you\n"
     ]
    }
   ],
   "source": [
    "while True:\n",
    "    user_input = input(\"User: \")\n",
    "    if user_input.lower() in [\"bye\", \"exit\", \"quit\",\"see you\"]:\n",
    "        break\n",
    "\n",
    "    response = chat_bot(user_input)\n",
    "    print(\"*AI: \", response)"
   ]
  },
  {
   "cell_type": "code",
   "execution_count": null,
   "id": "6da8c778",
   "metadata": {},
   "outputs": [],
   "source": []
  }
 ],
 "metadata": {
  "kernelspec": {
   "display_name": "Python 3 (ipykernel)",
   "language": "python",
   "name": "python3"
  },
  "language_info": {
   "codemirror_mode": {
    "name": "ipython",
    "version": 3
   },
   "file_extension": ".py",
   "mimetype": "text/x-python",
   "name": "python",
   "nbconvert_exporter": "python",
   "pygments_lexer": "ipython3",
   "version": "3.11.5"
  }
 },
 "nbformat": 4,
 "nbformat_minor": 5
}
